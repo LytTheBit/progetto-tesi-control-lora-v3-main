{
 "cells": [
  {
   "cell_type": "code",
   "execution_count": 2,
   "id": "fba46975-2a2e-486d-90a3-3cd26899e4c2",
   "metadata": {},
   "outputs": [
    {
     "ename": "SyntaxError",
     "evalue": "invalid syntax (433321075.py, line 1)",
     "output_type": "error",
     "traceback": [
      "\u001b[0;36m  File \u001b[0;32m\"/tmp/ipykernel_5568/433321075.py\"\u001b[0;36m, line \u001b[0;32m1\u001b[0m\n\u001b[0;31m    uvicorn server:app --host 0.0.0.0 --port 7860\u001b[0m\n\u001b[0m            ^\u001b[0m\n\u001b[0;31mSyntaxError\u001b[0m\u001b[0;31m:\u001b[0m invalid syntax\n"
     ]
    }
   ],
   "source": [
    "uvicorn server:app --host 0.0.0.0 --port 7860"
   ]
  },
  {
   "cell_type": "code",
   "execution_count": null,
   "id": "075026ad-f660-45ad-9117-1f15a351c80f",
   "metadata": {},
   "outputs": [],
   "source": []
  }
 ],
 "metadata": {
  "kernelspec": {
   "display_name": "Python 3 (ipykernel)",
   "language": "python",
   "name": "python3"
  },
  "language_info": {
   "codemirror_mode": {
    "name": "ipython",
    "version": 3
   },
   "file_extension": ".py",
   "mimetype": "text/x-python",
   "name": "python",
   "nbconvert_exporter": "python",
   "pygments_lexer": "ipython3",
   "version": "3.10.12"
  }
 },
 "nbformat": 4,
 "nbformat_minor": 5
}
