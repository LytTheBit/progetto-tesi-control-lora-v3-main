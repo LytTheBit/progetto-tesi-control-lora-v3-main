{
 "cells": [
  {
   "cell_type": "code",
   "execution_count": 27,
   "id": "4c9b59b5-e931-46f0-9fb0-07ccfe759a9b",
   "metadata": {},
   "outputs": [
    {
     "name": "stdout",
     "output_type": "stream",
     "text": [
      "2025-05-25 19:48:04.076282: E external/local_xla/xla/stream_executor/cuda/cuda_fft.cc:477] Unable to register cuFFT factory: Attempting to register factory for plugin cuFFT when one has already been registered\n",
      "WARNING: All log messages before absl::InitializeLog() is called are written to STDERR\n",
      "E0000 00:00:1748202484.095221    8427 cuda_dnn.cc:8310] Unable to register cuDNN factory: Attempting to register factory for plugin cuDNN when one has already been registered\n",
      "E0000 00:00:1748202484.101476    8427 cuda_blas.cc:1418] Unable to register cuBLAS factory: Attempting to register factory for plugin cuBLAS when one has already been registered\n",
      "Loading pipeline components...: 100%|█████████████| 6/6 [00:00<00:00, 21.11it/s]\n",
      "You have disabled the safety checker for <class 'pipeline.StableDiffusionControlLoraV3Pipeline'> by passing `safety_checker=None`. Ensure that you abide to the conditions of the Stable Diffusion license and do not expose unfiltered results in services or applications open to the public. Both the diffusers team and Hugging Face strongly recommend to keep the safety filter enabled in all public facing circumstances, disabling it only for use-cases that involve analyzing network behavior or auditing its results. For more information, please have a look at https://github.com/huggingface/diffusers/pull/254 .\n",
      "100%|█████████████████████████████████████████| 100/100 [00:04<00:00, 22.59it/s]\n",
      "Immagine salvata in: /home/ubuntu/progetto-tesi_control-lora-v3-main/out/test_glasses/Bicchiere_test_2B.png\n"
     ]
    }
   ],
   "source": [
    "!python /home/ubuntu/progetto-tesi_control-lora-v3-main/exps/test_glasses.py"
   ]
  }
 ],
 "metadata": {
  "kernelspec": {
   "display_name": "Python 3 (ipykernel)",
   "language": "python",
   "name": "python3"
  },
  "language_info": {
   "codemirror_mode": {
    "name": "ipython",
    "version": 3
   },
   "file_extension": ".py",
   "mimetype": "text/x-python",
   "name": "python",
   "nbconvert_exporter": "python",
   "pygments_lexer": "ipython3",
   "version": "3.10.12"
  }
 },
 "nbformat": 4,
 "nbformat_minor": 5
}
